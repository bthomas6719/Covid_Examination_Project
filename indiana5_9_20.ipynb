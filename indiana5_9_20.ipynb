{
 "cells": [
  {
   "cell_type": "code",
   "execution_count": 57,
   "metadata": {},
   "outputs": [],
   "source": [
    "from numpy.random import seed\n",
    "seed(1)"
   ]
  },
  {
   "cell_type": "code",
   "execution_count": 58,
   "metadata": {},
   "outputs": [],
   "source": [
    "# import dependencies\n",
    "import pandas as pd\n",
    "import matplotlib.pyplot as plt\n",
    "import numpy as np"
   ]
  },
  {
   "cell_type": "code",
   "execution_count": 59,
   "metadata": {},
   "outputs": [
    {
     "data": {
      "text/html": [
       "<div>\n",
       "<style scoped>\n",
       "    .dataframe tbody tr th:only-of-type {\n",
       "        vertical-align: middle;\n",
       "    }\n",
       "\n",
       "    .dataframe tbody tr th {\n",
       "        vertical-align: top;\n",
       "    }\n",
       "\n",
       "    .dataframe thead th {\n",
       "        text-align: right;\n",
       "    }\n",
       "</style>\n",
       "<table border=\"1\" class=\"dataframe\">\n",
       "  <thead>\n",
       "    <tr style=\"text-align: right;\">\n",
       "      <th></th>\n",
       "      <th>DATE</th>\n",
       "      <th>COVID_TEST</th>\n",
       "      <th>DAILY_DELTA_TESTS</th>\n",
       "      <th>DAILY_BASE_TESTS</th>\n",
       "      <th>COVID_COUNT</th>\n",
       "      <th>DAILY_DELTA_CASES</th>\n",
       "      <th>DAILY_BASE_CASES</th>\n",
       "      <th>COVID_DEATHS</th>\n",
       "      <th>DAILY_DELTA_DEATHS</th>\n",
       "      <th>DAILY_BASE_DEATHS</th>\n",
       "      <th>COVID_COUNT_CUMSUM</th>\n",
       "      <th>COVID_DEATHS_CUMSUM</th>\n",
       "      <th>COVID_TEST_CUMSUM</th>\n",
       "    </tr>\n",
       "  </thead>\n",
       "  <tbody>\n",
       "    <tr>\n",
       "      <th>0</th>\n",
       "      <td>2020-02-29</td>\n",
       "      <td>1</td>\n",
       "      <td>0</td>\n",
       "      <td>1</td>\n",
       "      <td>0</td>\n",
       "      <td>0</td>\n",
       "      <td>0</td>\n",
       "      <td>0</td>\n",
       "      <td>0</td>\n",
       "      <td>0</td>\n",
       "      <td>0</td>\n",
       "      <td>0</td>\n",
       "      <td>1</td>\n",
       "    </tr>\n",
       "    <tr>\n",
       "      <th>1</th>\n",
       "      <td>2020-03-02</td>\n",
       "      <td>2</td>\n",
       "      <td>0</td>\n",
       "      <td>2</td>\n",
       "      <td>0</td>\n",
       "      <td>0</td>\n",
       "      <td>0</td>\n",
       "      <td>0</td>\n",
       "      <td>0</td>\n",
       "      <td>0</td>\n",
       "      <td>0</td>\n",
       "      <td>0</td>\n",
       "      <td>3</td>\n",
       "    </tr>\n",
       "    <tr>\n",
       "      <th>2</th>\n",
       "      <td>2020-03-03</td>\n",
       "      <td>4</td>\n",
       "      <td>0</td>\n",
       "      <td>4</td>\n",
       "      <td>0</td>\n",
       "      <td>0</td>\n",
       "      <td>0</td>\n",
       "      <td>0</td>\n",
       "      <td>0</td>\n",
       "      <td>0</td>\n",
       "      <td>0</td>\n",
       "      <td>0</td>\n",
       "      <td>7</td>\n",
       "    </tr>\n",
       "    <tr>\n",
       "      <th>3</th>\n",
       "      <td>2020-03-04</td>\n",
       "      <td>4</td>\n",
       "      <td>0</td>\n",
       "      <td>4</td>\n",
       "      <td>0</td>\n",
       "      <td>0</td>\n",
       "      <td>0</td>\n",
       "      <td>0</td>\n",
       "      <td>0</td>\n",
       "      <td>0</td>\n",
       "      <td>0</td>\n",
       "      <td>0</td>\n",
       "      <td>11</td>\n",
       "    </tr>\n",
       "    <tr>\n",
       "      <th>4</th>\n",
       "      <td>2020-03-05</td>\n",
       "      <td>2</td>\n",
       "      <td>0</td>\n",
       "      <td>2</td>\n",
       "      <td>0</td>\n",
       "      <td>0</td>\n",
       "      <td>0</td>\n",
       "      <td>0</td>\n",
       "      <td>0</td>\n",
       "      <td>0</td>\n",
       "      <td>0</td>\n",
       "      <td>0</td>\n",
       "      <td>13</td>\n",
       "    </tr>\n",
       "    <tr>\n",
       "      <th>...</th>\n",
       "      <td>...</td>\n",
       "      <td>...</td>\n",
       "      <td>...</td>\n",
       "      <td>...</td>\n",
       "      <td>...</td>\n",
       "      <td>...</td>\n",
       "      <td>...</td>\n",
       "      <td>...</td>\n",
       "      <td>...</td>\n",
       "      <td>...</td>\n",
       "      <td>...</td>\n",
       "      <td>...</td>\n",
       "      <td>...</td>\n",
       "    </tr>\n",
       "    <tr>\n",
       "      <th>63</th>\n",
       "      <td>2020-05-03</td>\n",
       "      <td>1571</td>\n",
       "      <td>59</td>\n",
       "      <td>1512</td>\n",
       "      <td>574</td>\n",
       "      <td>1</td>\n",
       "      <td>573</td>\n",
       "      <td>30</td>\n",
       "      <td>1</td>\n",
       "      <td>29</td>\n",
       "      <td>20480</td>\n",
       "      <td>1220</td>\n",
       "      <td>121821</td>\n",
       "    </tr>\n",
       "    <tr>\n",
       "      <th>64</th>\n",
       "      <td>2020-05-04</td>\n",
       "      <td>4311</td>\n",
       "      <td>1464</td>\n",
       "      <td>2847</td>\n",
       "      <td>530</td>\n",
       "      <td>0</td>\n",
       "      <td>530</td>\n",
       "      <td>34</td>\n",
       "      <td>0</td>\n",
       "      <td>34</td>\n",
       "      <td>21010</td>\n",
       "      <td>1254</td>\n",
       "      <td>126132</td>\n",
       "    </tr>\n",
       "    <tr>\n",
       "      <th>65</th>\n",
       "      <td>2020-05-05</td>\n",
       "      <td>3395</td>\n",
       "      <td>2785</td>\n",
       "      <td>610</td>\n",
       "      <td>842</td>\n",
       "      <td>3</td>\n",
       "      <td>839</td>\n",
       "      <td>34</td>\n",
       "      <td>3</td>\n",
       "      <td>31</td>\n",
       "      <td>21852</td>\n",
       "      <td>1288</td>\n",
       "      <td>129527</td>\n",
       "    </tr>\n",
       "    <tr>\n",
       "      <th>66</th>\n",
       "      <td>2020-05-06</td>\n",
       "      <td>454</td>\n",
       "      <td>364</td>\n",
       "      <td>90</td>\n",
       "      <td>630</td>\n",
       "      <td>3</td>\n",
       "      <td>627</td>\n",
       "      <td>27</td>\n",
       "      <td>13</td>\n",
       "      <td>14</td>\n",
       "      <td>22482</td>\n",
       "      <td>1315</td>\n",
       "      <td>129981</td>\n",
       "    </tr>\n",
       "    <tr>\n",
       "      <th>67</th>\n",
       "      <td>2020-05-07</td>\n",
       "      <td>147</td>\n",
       "      <td>147</td>\n",
       "      <td>0</td>\n",
       "      <td>664</td>\n",
       "      <td>663</td>\n",
       "      <td>1</td>\n",
       "      <td>13</td>\n",
       "      <td>13</td>\n",
       "      <td>0</td>\n",
       "      <td>23146</td>\n",
       "      <td>1328</td>\n",
       "      <td>130128</td>\n",
       "    </tr>\n",
       "  </tbody>\n",
       "</table>\n",
       "<p>68 rows × 13 columns</p>\n",
       "</div>"
      ],
      "text/plain": [
       "          DATE  COVID_TEST  DAILY_DELTA_TESTS  DAILY_BASE_TESTS  COVID_COUNT  \\\n",
       "0   2020-02-29           1                  0                 1            0   \n",
       "1   2020-03-02           2                  0                 2            0   \n",
       "2   2020-03-03           4                  0                 4            0   \n",
       "3   2020-03-04           4                  0                 4            0   \n",
       "4   2020-03-05           2                  0                 2            0   \n",
       "..         ...         ...                ...               ...          ...   \n",
       "63  2020-05-03        1571                 59              1512          574   \n",
       "64  2020-05-04        4311               1464              2847          530   \n",
       "65  2020-05-05        3395               2785               610          842   \n",
       "66  2020-05-06         454                364                90          630   \n",
       "67  2020-05-07         147                147                 0          664   \n",
       "\n",
       "    DAILY_DELTA_CASES  DAILY_BASE_CASES  COVID_DEATHS  DAILY_DELTA_DEATHS  \\\n",
       "0                   0                 0             0                   0   \n",
       "1                   0                 0             0                   0   \n",
       "2                   0                 0             0                   0   \n",
       "3                   0                 0             0                   0   \n",
       "4                   0                 0             0                   0   \n",
       "..                ...               ...           ...                 ...   \n",
       "63                  1               573            30                   1   \n",
       "64                  0               530            34                   0   \n",
       "65                  3               839            34                   3   \n",
       "66                  3               627            27                  13   \n",
       "67                663                 1            13                  13   \n",
       "\n",
       "    DAILY_BASE_DEATHS  COVID_COUNT_CUMSUM  COVID_DEATHS_CUMSUM  \\\n",
       "0                   0                   0                    0   \n",
       "1                   0                   0                    0   \n",
       "2                   0                   0                    0   \n",
       "3                   0                   0                    0   \n",
       "4                   0                   0                    0   \n",
       "..                ...                 ...                  ...   \n",
       "63                 29               20480                 1220   \n",
       "64                 34               21010                 1254   \n",
       "65                 31               21852                 1288   \n",
       "66                 14               22482                 1315   \n",
       "67                  0               23146                 1328   \n",
       "\n",
       "    COVID_TEST_CUMSUM  \n",
       "0                   1  \n",
       "1                   3  \n",
       "2                   7  \n",
       "3                  11  \n",
       "4                  13  \n",
       "..                ...  \n",
       "63             121821  \n",
       "64             126132  \n",
       "65             129527  \n",
       "66             129981  \n",
       "67             130128  \n",
       "\n",
       "[68 rows x 13 columns]"
      ]
     },
     "execution_count": 59,
     "metadata": {},
     "output_type": "execute_result"
    }
   ],
   "source": [
    "df = pd.read_excel(\"covid_statetrends.xlsx\")\n",
    "# Drop the null columns where all values are null\n",
    "df = df.dropna(axis='columns', how='all')\n",
    "pd.set_option('display.max_columns', None)\n",
    "# Drop the null rows\n",
    "df = df.dropna()\n",
    "df.head(100)"
   ]
  },
  {
   "cell_type": "code",
   "execution_count": 60,
   "metadata": {},
   "outputs": [
    {
     "name": "stdout",
     "output_type": "stream",
     "text": [
      "(68, 12) (68,)\n"
     ]
    }
   ],
   "source": [
    "X = df.drop(\"DATE\", axis=1)\n",
    "y = df[\"DATE\"]\n",
    "print(X.shape, y.shape)"
   ]
  },
  {
   "cell_type": "code",
   "execution_count": null,
   "metadata": {},
   "outputs": [],
   "source": []
  },
  {
   "cell_type": "code",
   "execution_count": 61,
   "metadata": {},
   "outputs": [],
   "source": [
    "from sklearn.model_selection import train_test_split\n",
    "from sklearn.preprocessing import LabelEncoder, MinMaxScaler\n",
    "from tensorflow.keras.utils import to_categorical"
   ]
  },
  {
   "cell_type": "code",
   "execution_count": 62,
   "metadata": {},
   "outputs": [],
   "source": [
    "# Step 1: Label-encode data set\n",
    "label_encoder = LabelEncoder()\n",
    "label_encoder.fit(y)\n",
    "encoded_y = label_encoder.transform(y)"
   ]
  },
  {
   "cell_type": "code",
   "execution_count": 63,
   "metadata": {},
   "outputs": [
    {
     "name": "stdout",
     "output_type": "stream",
     "text": [
      "Original Class: 2020-02-29\n",
      "Encoded Label: 0\n",
      "------------\n",
      "Original Class: 2020-03-02\n",
      "Encoded Label: 1\n",
      "------------\n",
      "Original Class: 2020-03-03\n",
      "Encoded Label: 2\n",
      "------------\n",
      "Original Class: 2020-03-04\n",
      "Encoded Label: 3\n",
      "------------\n",
      "Original Class: 2020-03-05\n",
      "Encoded Label: 4\n",
      "------------\n",
      "Original Class: 2020-03-06\n",
      "Encoded Label: 5\n",
      "------------\n",
      "Original Class: 2020-03-07\n",
      "Encoded Label: 6\n",
      "------------\n",
      "Original Class: 2020-03-08\n",
      "Encoded Label: 7\n",
      "------------\n",
      "Original Class: 2020-03-09\n",
      "Encoded Label: 8\n",
      "------------\n",
      "Original Class: 2020-03-10\n",
      "Encoded Label: 9\n",
      "------------\n",
      "Original Class: 2020-03-11\n",
      "Encoded Label: 10\n",
      "------------\n",
      "Original Class: 2020-03-12\n",
      "Encoded Label: 11\n",
      "------------\n",
      "Original Class: 2020-03-13\n",
      "Encoded Label: 12\n",
      "------------\n",
      "Original Class: 2020-03-14\n",
      "Encoded Label: 13\n",
      "------------\n",
      "Original Class: 2020-03-15\n",
      "Encoded Label: 14\n",
      "------------\n",
      "Original Class: 2020-03-16\n",
      "Encoded Label: 15\n",
      "------------\n",
      "Original Class: 2020-03-17\n",
      "Encoded Label: 16\n",
      "------------\n",
      "Original Class: 2020-03-18\n",
      "Encoded Label: 17\n",
      "------------\n",
      "Original Class: 2020-03-19\n",
      "Encoded Label: 18\n",
      "------------\n",
      "Original Class: 2020-03-20\n",
      "Encoded Label: 19\n",
      "------------\n",
      "Original Class: 2020-03-21\n",
      "Encoded Label: 20\n",
      "------------\n",
      "Original Class: 2020-03-22\n",
      "Encoded Label: 21\n",
      "------------\n",
      "Original Class: 2020-03-23\n",
      "Encoded Label: 22\n",
      "------------\n",
      "Original Class: 2020-03-24\n",
      "Encoded Label: 23\n",
      "------------\n",
      "Original Class: 2020-03-25\n",
      "Encoded Label: 24\n",
      "------------\n",
      "Original Class: 2020-03-26\n",
      "Encoded Label: 25\n",
      "------------\n",
      "Original Class: 2020-03-27\n",
      "Encoded Label: 26\n",
      "------------\n",
      "Original Class: 2020-03-28\n",
      "Encoded Label: 27\n",
      "------------\n",
      "Original Class: 2020-03-29\n",
      "Encoded Label: 28\n",
      "------------\n",
      "Original Class: 2020-03-30\n",
      "Encoded Label: 29\n",
      "------------\n",
      "Original Class: 2020-03-31\n",
      "Encoded Label: 30\n",
      "------------\n",
      "Original Class: 2020-04-01\n",
      "Encoded Label: 31\n",
      "------------\n",
      "Original Class: 2020-04-02\n",
      "Encoded Label: 32\n",
      "------------\n",
      "Original Class: 2020-04-03\n",
      "Encoded Label: 33\n",
      "------------\n",
      "Original Class: 2020-04-04\n",
      "Encoded Label: 34\n",
      "------------\n",
      "Original Class: 2020-04-05\n",
      "Encoded Label: 35\n",
      "------------\n",
      "Original Class: 2020-04-06\n",
      "Encoded Label: 36\n",
      "------------\n",
      "Original Class: 2020-04-07\n",
      "Encoded Label: 37\n",
      "------------\n",
      "Original Class: 2020-04-08\n",
      "Encoded Label: 38\n",
      "------------\n",
      "Original Class: 2020-04-09\n",
      "Encoded Label: 39\n",
      "------------\n",
      "Original Class: 2020-04-10\n",
      "Encoded Label: 40\n",
      "------------\n",
      "Original Class: 2020-04-11\n",
      "Encoded Label: 41\n",
      "------------\n",
      "Original Class: 2020-04-12\n",
      "Encoded Label: 42\n",
      "------------\n",
      "Original Class: 2020-04-13\n",
      "Encoded Label: 43\n",
      "------------\n",
      "Original Class: 2020-04-14\n",
      "Encoded Label: 44\n",
      "------------\n",
      "Original Class: 2020-04-15\n",
      "Encoded Label: 45\n",
      "------------\n",
      "Original Class: 2020-04-16\n",
      "Encoded Label: 46\n",
      "------------\n",
      "Original Class: 2020-04-17\n",
      "Encoded Label: 47\n",
      "------------\n",
      "Original Class: 2020-04-18\n",
      "Encoded Label: 48\n",
      "------------\n",
      "Original Class: 2020-04-19\n",
      "Encoded Label: 49\n",
      "------------\n",
      "Original Class: 2020-04-20\n",
      "Encoded Label: 50\n",
      "------------\n",
      "Original Class: 2020-04-21\n",
      "Encoded Label: 51\n",
      "------------\n",
      "Original Class: 2020-04-22\n",
      "Encoded Label: 52\n",
      "------------\n",
      "Original Class: 2020-04-23\n",
      "Encoded Label: 53\n",
      "------------\n",
      "Original Class: 2020-04-24\n",
      "Encoded Label: 54\n",
      "------------\n",
      "Original Class: 2020-04-25\n",
      "Encoded Label: 55\n",
      "------------\n",
      "Original Class: 2020-04-26\n",
      "Encoded Label: 56\n",
      "------------\n",
      "Original Class: 2020-04-27\n",
      "Encoded Label: 57\n",
      "------------\n",
      "Original Class: 2020-04-28\n",
      "Encoded Label: 58\n",
      "------------\n",
      "Original Class: 2020-04-29\n",
      "Encoded Label: 59\n",
      "------------\n",
      "Original Class: 2020-04-30\n",
      "Encoded Label: 60\n",
      "------------\n",
      "Original Class: 2020-05-01\n",
      "Encoded Label: 61\n",
      "------------\n",
      "Original Class: 2020-05-02\n",
      "Encoded Label: 62\n",
      "------------\n",
      "Original Class: 2020-05-03\n",
      "Encoded Label: 63\n",
      "------------\n",
      "Original Class: 2020-05-04\n",
      "Encoded Label: 64\n",
      "------------\n",
      "Original Class: 2020-05-05\n",
      "Encoded Label: 65\n",
      "------------\n",
      "Original Class: 2020-05-06\n",
      "Encoded Label: 66\n",
      "------------\n",
      "Original Class: 2020-05-07\n",
      "Encoded Label: 67\n",
      "------------\n"
     ]
    }
   ],
   "source": [
    "for label, original_class in zip(encoded_y, y):\n",
    "    print('Original Class: ' + str(original_class))\n",
    "    print('Encoded Label: ' + str(label))\n",
    "    print('-' * 12)"
   ]
  },
  {
   "cell_type": "code",
   "execution_count": 64,
   "metadata": {},
   "outputs": [],
   "source": [
    "# Step 1: Label-encode data set\n",
    "\n",
    "encoded_y_train = (encoded_y)\n",
    "#encoded_y_test =(encoded_y)\n",
    "# Step 2: Convert encoded labels to one-hot-encoding\n",
    "y_train_categorical = to_categorical(encoded_y_train)\n",
    "#y_test_categorical = to_categorical(encoded_y_test)"
   ]
  },
  {
   "cell_type": "code",
   "execution_count": 65,
   "metadata": {},
   "outputs": [
    {
     "data": {
      "text/plain": [
       "(68, 68)"
      ]
     },
     "execution_count": 65,
     "metadata": {},
     "output_type": "execute_result"
    }
   ],
   "source": [
    "y_train_categorical.shape"
   ]
  },
  {
   "cell_type": "code",
   "execution_count": 66,
   "metadata": {},
   "outputs": [],
   "source": [
    "X_train, X_test, y_train, y_test = train_test_split(\n",
    "    X, y_train_categorical, random_state=1)"
   ]
  },
  {
   "cell_type": "code",
   "execution_count": 67,
   "metadata": {},
   "outputs": [],
   "source": [
    "X_scaler = MinMaxScaler().fit(X_train)\n",
    "X_train_scaled = X_scaler.transform(X_train)\n",
    "X_test_scaled = X_scaler.transform(X_test)\n",
    "#X_train\n",
    "#X_test"
   ]
  },
  {
   "cell_type": "code",
   "execution_count": 68,
   "metadata": {},
   "outputs": [
    {
     "data": {
      "text/plain": [
       "(51, 12)"
      ]
     },
     "execution_count": 68,
     "metadata": {},
     "output_type": "execute_result"
    }
   ],
   "source": [
    "X_train.shape"
   ]
  },
  {
   "cell_type": "code",
   "execution_count": 69,
   "metadata": {},
   "outputs": [
    {
     "data": {
      "text/plain": [
       "(51, 68)"
      ]
     },
     "execution_count": 69,
     "metadata": {},
     "output_type": "execute_result"
    }
   ],
   "source": [
    "y_train.shape"
   ]
  },
  {
   "cell_type": "code",
   "execution_count": 70,
   "metadata": {},
   "outputs": [
    {
     "data": {
      "text/plain": [
       "array([[0., 0., 0., ..., 0., 0., 0.],\n",
       "       [0., 0., 0., ..., 0., 0., 0.],\n",
       "       [0., 0., 0., ..., 0., 0., 0.],\n",
       "       ...,\n",
       "       [0., 0., 0., ..., 0., 0., 0.],\n",
       "       [0., 0., 0., ..., 0., 0., 0.],\n",
       "       [0., 0., 0., ..., 0., 0., 0.]], dtype=float32)"
      ]
     },
     "execution_count": 70,
     "metadata": {},
     "output_type": "execute_result"
    }
   ],
   "source": [
    "y_train"
   ]
  },
  {
   "cell_type": "code",
   "execution_count": 71,
   "metadata": {},
   "outputs": [],
   "source": [
    "from tensorflow.keras.models import Sequential\n",
    "from tensorflow.keras.layers import Dense\n",
    "# Create model and add layers\n",
    "model = Sequential()\n",
    "model.add(Dense(units=100, activation='relu', input_dim=12))\n",
    "model.add(Dense(units=100, activation='relu'))\n",
    "model.add(Dense(units=68, activation='softmax'))"
   ]
  },
  {
   "cell_type": "code",
   "execution_count": 72,
   "metadata": {},
   "outputs": [],
   "source": [
    "# Compile and fit the model\n",
    "model.compile(optimizer='adam',\n",
    "              loss='categorical_crossentropy',\n",
    "              metrics=['accuracy'])"
   ]
  },
  {
   "cell_type": "code",
   "execution_count": 73,
   "metadata": {
    "scrolled": true
   },
   "outputs": [
    {
     "name": "stdout",
     "output_type": "stream",
     "text": [
      "Model: \"sequential_1\"\n",
      "_________________________________________________________________\n",
      "Layer (type)                 Output Shape              Param #   \n",
      "=================================================================\n",
      "dense_3 (Dense)              (None, 100)               1300      \n",
      "_________________________________________________________________\n",
      "dense_4 (Dense)              (None, 100)               10100     \n",
      "_________________________________________________________________\n",
      "dense_5 (Dense)              (None, 68)                6868      \n",
      "=================================================================\n",
      "Total params: 18,268\n",
      "Trainable params: 18,268\n",
      "Non-trainable params: 0\n",
      "_________________________________________________________________\n"
     ]
    }
   ],
   "source": [
    "model.summary()"
   ]
  },
  {
   "cell_type": "code",
   "execution_count": 74,
   "metadata": {},
   "outputs": [
    {
     "data": {
      "text/plain": [
       "(51, 12)"
      ]
     },
     "execution_count": 74,
     "metadata": {},
     "output_type": "execute_result"
    }
   ],
   "source": [
    "X_train.shape"
   ]
  },
  {
   "cell_type": "code",
   "execution_count": 75,
   "metadata": {},
   "outputs": [
    {
     "data": {
      "text/plain": [
       "(51, 68)"
      ]
     },
     "execution_count": 75,
     "metadata": {},
     "output_type": "execute_result"
    }
   ],
   "source": [
    "y_train.shape"
   ]
  },
  {
   "cell_type": "code",
   "execution_count": 76,
   "metadata": {},
   "outputs": [
    {
     "name": "stdout",
     "output_type": "stream",
     "text": [
      "Train on 51 samples\n",
      "Epoch 1/60\n",
      "51/51 - 1s - loss: 9780.8809 - accuracy: 0.0196\n",
      "Epoch 2/60\n",
      "51/51 - 0s - loss: 6210.2832 - accuracy: 0.0196\n",
      "Epoch 3/60\n",
      "51/51 - 0s - loss: 4308.5894 - accuracy: 0.0196\n",
      "Epoch 4/60\n",
      "51/51 - 0s - loss: 3865.1887 - accuracy: 0.0000e+00\n",
      "Epoch 5/60\n",
      "51/51 - 0s - loss: 3340.4571 - accuracy: 0.0000e+00\n",
      "Epoch 6/60\n",
      "51/51 - 0s - loss: 2970.6041 - accuracy: 0.0000e+00\n",
      "Epoch 7/60\n",
      "51/51 - 0s - loss: 2454.5995 - accuracy: 0.0000e+00\n",
      "Epoch 8/60\n",
      "51/51 - 0s - loss: 1953.0817 - accuracy: 0.0000e+00\n",
      "Epoch 9/60\n",
      "51/51 - 0s - loss: 1508.9047 - accuracy: 0.0196\n",
      "Epoch 10/60\n",
      "51/51 - 0s - loss: 1281.9422 - accuracy: 0.0000e+00\n",
      "Epoch 11/60\n",
      "51/51 - 0s - loss: 1182.4907 - accuracy: 0.0392\n",
      "Epoch 12/60\n",
      "51/51 - 0s - loss: 1107.1641 - accuracy: 0.0196\n",
      "Epoch 13/60\n",
      "51/51 - 0s - loss: 994.1608 - accuracy: 0.0196\n",
      "Epoch 14/60\n",
      "51/51 - 0s - loss: 861.5360 - accuracy: 0.0000e+00\n",
      "Epoch 15/60\n",
      "51/51 - 0s - loss: 754.3187 - accuracy: 0.0000e+00\n",
      "Epoch 16/60\n",
      "51/51 - 0s - loss: 703.3635 - accuracy: 0.0196\n",
      "Epoch 17/60\n",
      "51/51 - 0s - loss: 635.9297 - accuracy: 0.0000e+00\n",
      "Epoch 18/60\n",
      "51/51 - 0s - loss: 663.2538 - accuracy: 0.0196\n",
      "Epoch 19/60\n",
      "51/51 - 0s - loss: 629.9028 - accuracy: 0.0196\n",
      "Epoch 20/60\n",
      "51/51 - 0s - loss: 506.0575 - accuracy: 0.0196\n",
      "Epoch 21/60\n",
      "51/51 - 0s - loss: 437.4055 - accuracy: 0.0000e+00\n",
      "Epoch 22/60\n",
      "51/51 - 0s - loss: 450.7225 - accuracy: 0.0196\n",
      "Epoch 23/60\n",
      "51/51 - 0s - loss: 439.7301 - accuracy: 0.0196\n",
      "Epoch 24/60\n",
      "51/51 - 0s - loss: 417.3710 - accuracy: 0.0000e+00\n",
      "Epoch 25/60\n",
      "51/51 - 0s - loss: 420.5893 - accuracy: 0.0196\n",
      "Epoch 26/60\n",
      "51/51 - 0s - loss: 423.1135 - accuracy: 0.0196\n",
      "Epoch 27/60\n",
      "51/51 - 0s - loss: 352.0671 - accuracy: 0.0000e+00\n",
      "Epoch 28/60\n",
      "51/51 - 0s - loss: 357.4487 - accuracy: 0.0000e+00\n",
      "Epoch 29/60\n",
      "51/51 - 0s - loss: 332.0163 - accuracy: 0.0196\n",
      "Epoch 30/60\n",
      "51/51 - 0s - loss: 263.4816 - accuracy: 0.0392\n",
      "Epoch 31/60\n",
      "51/51 - 0s - loss: 245.9960 - accuracy: 0.0784\n",
      "Epoch 32/60\n",
      "51/51 - 0s - loss: 262.9734 - accuracy: 0.0784\n",
      "Epoch 33/60\n",
      "51/51 - 0s - loss: 288.7118 - accuracy: 0.0784\n",
      "Epoch 34/60\n",
      "51/51 - 0s - loss: 289.4584 - accuracy: 0.0588\n",
      "Epoch 35/60\n",
      "51/51 - 0s - loss: 298.7574 - accuracy: 0.0196\n",
      "Epoch 36/60\n",
      "51/51 - 0s - loss: 272.7691 - accuracy: 0.0784\n",
      "Epoch 37/60\n",
      "51/51 - 0s - loss: 234.0390 - accuracy: 0.0980\n",
      "Epoch 38/60\n",
      "51/51 - 0s - loss: 238.8878 - accuracy: 0.0784\n",
      "Epoch 39/60\n",
      "51/51 - 0s - loss: 229.8564 - accuracy: 0.0784\n",
      "Epoch 40/60\n",
      "51/51 - 0s - loss: 242.8186 - accuracy: 0.0784\n",
      "Epoch 41/60\n",
      "51/51 - 0s - loss: 201.6547 - accuracy: 0.0392\n",
      "Epoch 42/60\n",
      "51/51 - 0s - loss: 235.0257 - accuracy: 0.0980\n",
      "Epoch 43/60\n",
      "51/51 - 0s - loss: 260.2467 - accuracy: 0.0980\n",
      "Epoch 44/60\n",
      "51/51 - 0s - loss: 232.4157 - accuracy: 0.0784\n",
      "Epoch 45/60\n",
      "51/51 - 0s - loss: 244.4972 - accuracy: 0.0784\n",
      "Epoch 46/60\n",
      "51/51 - 0s - loss: 212.3656 - accuracy: 0.0980\n",
      "Epoch 47/60\n",
      "51/51 - 0s - loss: 203.8473 - accuracy: 0.0784\n",
      "Epoch 48/60\n",
      "51/51 - 0s - loss: 209.0397 - accuracy: 0.0784\n",
      "Epoch 49/60\n",
      "51/51 - 0s - loss: 192.7155 - accuracy: 0.1176\n",
      "Epoch 50/60\n",
      "51/51 - 0s - loss: 223.7246 - accuracy: 0.0980\n",
      "Epoch 51/60\n",
      "51/51 - 0s - loss: 210.8249 - accuracy: 0.0784\n",
      "Epoch 52/60\n",
      "51/51 - 0s - loss: 193.5813 - accuracy: 0.0588\n",
      "Epoch 53/60\n",
      "51/51 - 0s - loss: 201.0856 - accuracy: 0.0784\n",
      "Epoch 54/60\n",
      "51/51 - 0s - loss: 227.1448 - accuracy: 0.1176\n",
      "Epoch 55/60\n",
      "51/51 - 0s - loss: 242.0645 - accuracy: 0.0980\n",
      "Epoch 56/60\n",
      "51/51 - 0s - loss: 263.7147 - accuracy: 0.0588\n",
      "Epoch 57/60\n",
      "51/51 - 0s - loss: 269.0929 - accuracy: 0.0784\n",
      "Epoch 58/60\n",
      "51/51 - 0s - loss: 250.6892 - accuracy: 0.0980\n",
      "Epoch 59/60\n",
      "51/51 - 0s - loss: 244.8880 - accuracy: 0.0980\n",
      "Epoch 60/60\n",
      "51/51 - 0s - loss: 210.9570 - accuracy: 0.0980\n"
     ]
    },
    {
     "data": {
      "text/plain": [
       "<tensorflow.python.keras.callbacks.History at 0x2541f83d3c8>"
      ]
     },
     "execution_count": 76,
     "metadata": {},
     "output_type": "execute_result"
    }
   ],
   "source": [
    "model.fit(\n",
    "    X_train,\n",
    "    y_train,\n",
    "    epochs=60,\n",
    "    shuffle=True,\n",
    "    verbose=2\n",
    ")"
   ]
  },
  {
   "cell_type": "code",
   "execution_count": 77,
   "metadata": {},
   "outputs": [
    {
     "name": "stdout",
     "output_type": "stream",
     "text": [
      "WARNING:tensorflow:From C:\\Users\\bthom\\Anaconda3\\lib\\site-packages\\tensorflow_core\\python\\ops\\resource_variable_ops.py:1786: calling BaseResourceVariable.__init__ (from tensorflow.python.ops.resource_variable_ops) with constraint is deprecated and will be removed in a future version.\n",
      "Instructions for updating:\n",
      "If using Keras pass *_constraint arguments to layers.\n",
      "INFO:tensorflow:Assets written to: Indiana5_9_20\\assets\n"
     ]
    }
   ],
   "source": [
    "# Save the model\n",
    "model.save(\"Indiana5_9_20\")"
   ]
  },
  {
   "cell_type": "code",
   "execution_count": 78,
   "metadata": {},
   "outputs": [],
   "source": [
    "# Load the model\n",
    "from tensorflow.keras.models import load_model\n",
    "model = load_model(\"Indiana5_9_20\")"
   ]
  },
  {
   "cell_type": "code",
   "execution_count": 83,
   "metadata": {},
   "outputs": [
    {
     "name": "stdout",
     "output_type": "stream",
     "text": [
      "51/51 - 0s - loss: 11.7886 - accuracy: 0.1176\n",
      "Loss: 11.788600229749493, Accuracy: 0.11764705926179886\n"
     ]
    }
   ],
   "source": [
    "# Evaluate the model using the training data\n",
    "model_loss, model_accuracy = model.evaluate(X_train, y_train, verbose=2)\n",
    "print(f\"Loss: {model_loss}, Accuracy: {model_accuracy}\")"
   ]
  },
  {
   "cell_type": "code",
   "execution_count": 100,
   "metadata": {},
   "outputs": [
    {
     "data": {
      "text/plain": [
       "(1, 12)"
      ]
     },
     "execution_count": 100,
     "metadata": {},
     "output_type": "execute_result"
    }
   ],
   "source": [
    "# Grab just one data point to test with\n",
    "test = np.expand_dims(X_test_scaled[0], axis=0)\n",
    "test.shape"
   ]
  },
  {
   "cell_type": "code",
   "execution_count": 101,
   "metadata": {},
   "outputs": [
    {
     "name": "stdout",
     "output_type": "stream",
     "text": [
      "Predicted class: [0]\n"
     ]
    }
   ],
   "source": [
    "# Make a prediction. The result should be 5 - STANDING\n",
    "print(f\"Predicted class: {model.predict_classes(test)}\")"
   ]
  },
  {
   "cell_type": "code",
   "execution_count": 105,
   "metadata": {},
   "outputs": [
    {
     "name": "stdout",
     "output_type": "stream",
     "text": [
      "R2 Score: 0.1799999883194452\n"
     ]
    },
    {
     "name": "stderr",
     "output_type": "stream",
     "text": [
      "C:\\Users\\bthom\\Anaconda3\\lib\\site-packages\\sklearn\\base.py:434: FutureWarning: The default value of multioutput (not exposed in score method) will change from 'variance_weighted' to 'uniform_average' in 0.23 to keep consistent with 'metrics.r2_score'. To specify the default value manually and avoid the warning, please either call 'metrics.r2_score' directly or make a custom scorer with 'metrics.make_scorer' (the built-in scorer 'r2' uses multioutput='uniform_average').\n",
      "  \"multioutput='uniform_average').\", FutureWarning)\n"
     ]
    }
   ],
   "source": [
    "from sklearn.linear_model import LinearRegression\n",
    "model = LinearRegression()\n",
    "\n",
    "# Fitting our model with all of our features in X\n",
    "model.fit(X_train, y_train)\n",
    "\n",
    "score = model.score(X_train, y_train)\n",
    "print(f\"R2 Score: {score}\")"
   ]
  },
  {
   "cell_type": "code",
   "execution_count": 109,
   "metadata": {},
   "outputs": [
    {
     "data": {
      "image/png": "[encoded data removed]",
      "text/plain": [
       "<Figure size 432x288 with 1 Axes>"
      ]
     },
     "metadata": {
      "needs_background": "light"
     },
     "output_type": "display_data"
    }
   ],
   "source": [
    "predictions = model.predict(X_train)\n",
    "# Plot Residuals\n",
    "plt.scatter(predictions, predictions - y_train)\n",
    "plt.hlines(y=0, xmin=predictions.min(), xmax=predictions.max())\n",
    "plt.show()"
   ]
  },
  {
   "cell_type": "code",
   "execution_count": null,
   "metadata": {},
   "outputs": [],
   "source": []
  },
  {
   "cell_type": "code",
   "execution_count": null,
   "metadata": {},
   "outputs": [],
   "source": []
  },
  {
   "cell_type": "code",
   "execution_count": 22,
   "metadata": {},
   "outputs": [],
   "source": [
    "# conventional way to import seaborn\n",
    "import seaborn as sns\n",
    "\n",
    "# allow plots to appear within the notebook\n",
    "%matplotlib inline"
   ]
  },
  {
   "cell_type": "code",
   "execution_count": 23,
   "metadata": {
    "scrolled": true
   },
   "outputs": [
    {
     "name": "stderr",
     "output_type": "stream",
     "text": [
      "C:\\Users\\bthom\\Anaconda3\\lib\\site-packages\\seaborn\\axisgrid.py:2071: UserWarning: The `size` parameter has been renamed to `height`; please update your code.\n",
      "  warnings.warn(msg, UserWarning)\n"
     ]
    },
    {
     "data": {
      "text/plain": [
       "<seaborn.axisgrid.PairGrid at 0x2541e13dbc8>"
      ]
     },
     "execution_count": 23,
     "metadata": {},
     "output_type": "execute_result"
    },
    {
     "data": {
      "image/png": "[encoded data removed]",
      "text/plain": [
       "<Figure size 1058.4x504 with 3 Axes>"
      ]
     },
     "metadata": {
      "needs_background": "light"
     },
     "output_type": "display_data"
    }
   ],
   "source": [
    "data = pd.read_excel((\"covid_statetrends.xlsx\"), index_col=0)\n",
    "#print(X.shape, y.shape)\n",
    "# this produces pairs of scatterplot as shown\n",
    "# use aspect= to control the size of the graphs\n",
    "# use kind='reg' to plot linear regression on the graph\n",
    "sns.pairplot(data, x_vars=[\n",
    "    \n",
    "'COVID_TEST',\n",
    "'DAILY_DELTA_TESTS',\n",
    "'DAILY_BASE_TESTS',\n",
    "], y_vars=\"COVID_TEST\", size=7, aspect=0.7, kind='reg')"
   ]
  },
  {
   "cell_type": "code",
   "execution_count": null,
   "metadata": {},
   "outputs": [],
   "source": []
  },
  {
   "cell_type": "code",
   "execution_count": 24,
   "metadata": {
    "scrolled": true
   },
   "outputs": [
    {
     "name": "stderr",
     "output_type": "stream",
     "text": [
      "C:\\Users\\bthom\\Anaconda3\\lib\\site-packages\\seaborn\\axisgrid.py:2071: UserWarning: The `size` parameter has been renamed to `height`; please update your code.\n",
      "  warnings.warn(msg, UserWarning)\n"
     ]
    },
    {
     "data": {
      "text/plain": [
       "<seaborn.axisgrid.PairGrid at 0x2541ebaaec8>"
      ]
     },
     "execution_count": 24,
     "metadata": {},
     "output_type": "execute_result"
    },
    {
     "data": {
      "image/png": "[encoded data removed]",
      "text/plain": [
       "<Figure size 1058.4x504 with 3 Axes>"
      ]
     },
     "metadata": {
      "needs_background": "light"
     },
     "output_type": "display_data"
    }
   ],
   "source": [
    "data = pd.read_excel((\"covid_statetrends.xlsx\"), index_col=0)\n",
    "#print(X.shape, y.shape)\n",
    "# this produces pairs of scatterplot as shown\n",
    "# use aspect= to control the size of the graphs\n",
    "# use kind='reg' to plot linear regression on the graph\n",
    "sns.pairplot(data, x_vars=[\n",
    "    'COVID_COUNT',\n",
    "'DAILY_DELTA_CASES',\n",
    "'DAILY_BASE_CASES',\n",
    "    \n",
    "\n",
    "], y_vars=\"COVID_COUNT\", size=7, aspect=0.7, kind='reg')"
   ]
  },
  {
   "cell_type": "code",
   "execution_count": 25,
   "metadata": {},
   "outputs": [
    {
     "data": {
      "text/plain": [
       "('COVID_TEST_CUMSUM',)"
      ]
     },
     "execution_count": 25,
     "metadata": {},
     "output_type": "execute_result"
    }
   ],
   "source": [
    "'COVID_COUNT',\n",
    "'DAILY_DELTA_CASES',\n",
    "'DAILY_BASE_CASES',\n",
    "'COVID_DEATHS',\n",
    "'DAILY_DELTA_DEATHS',\n",
    "'DAILY_BASE_DEATHS',\n",
    "'COVID_COUNT_CUMSUM',\n",
    "'COVID_DEATHS_CUMSUM',\n",
    "'COVID_TEST_CUMSUM',"
   ]
  },
  {
   "cell_type": "code",
   "execution_count": 26,
   "metadata": {},
   "outputs": [
    {
     "name": "stdout",
     "output_type": "stream",
     "text": [
      "(51, 12)\n",
      "(17, 12)\n",
      "(51, 68)\n",
      "(17, 68)\n"
     ]
    }
   ],
   "source": [
    "print(X_train.shape)\n",
    "print(X_test.shape)\n",
    "print(y_train.shape)\n",
    "print(y_test.shape)\n"
   ]
  },
  {
   "cell_type": "code",
   "execution_count": 27,
   "metadata": {},
   "outputs": [
    {
     "data": {
      "text/plain": [
       "LinearRegression(copy_X=True, fit_intercept=True, n_jobs=None, normalize=False)"
      ]
     },
     "execution_count": 27,
     "metadata": {},
     "output_type": "execute_result"
    }
   ],
   "source": [
    "from sklearn.linear_model import LinearRegression\n",
    "\n",
    "# instantiate\n",
    "linreg = LinearRegression()\n",
    "\n",
    "# fit the model to the training data (learn the coefficients)\n",
    "linreg.fit(X_train, y_train)"
   ]
  },
  {
   "cell_type": "code",
   "execution_count": 28,
   "metadata": {},
   "outputs": [],
   "source": [
    "yPrediction = linreg.predict(X_test)"
   ]
  },
  {
   "cell_type": "code",
   "execution_count": 67,
   "metadata": {},
   "outputs": [
    {
     "name": "stdout",
     "output_type": "stream",
     "text": [
      "[ 6.10454033e-02  6.10271767e-02  0.00000000e+00  6.09618367e-02\n",
      "  6.09549597e-02  6.09438124e-02  6.08942825e-02  6.09561015e-02\n",
      "  6.07107295e-02  6.04634336e-02  5.99903900e-02  5.80901879e-02\n",
      "  5.62234395e-02  5.40506974e-02  5.48427703e-02  4.85487413e-02\n",
      "  4.42356078e-02  3.77571348e-02  2.92940912e-02  1.93548294e-02\n",
      "  2.23642908e-02  1.59069283e-02  8.51648789e-03  6.87806642e-04\n",
      " -1.13908060e-02 -1.64064084e-02  0.00000000e+00  0.00000000e+00\n",
      " -1.38589914e-02 -1.60589233e-02 -1.33809991e-02  0.00000000e+00\n",
      " -2.10372420e-02  0.00000000e+00  0.00000000e+00  1.45141426e-02\n",
      "  0.00000000e+00  8.69854949e-03 -3.18551685e-03  0.00000000e+00\n",
      " -5.70658468e-04  6.68220622e-03  2.17225202e-02  2.98107630e-03\n",
      "  5.69894151e-03  4.08989914e-03 -3.94670649e-03 -1.39668611e-02\n",
      "  0.00000000e+00  0.00000000e+00 -8.18960830e-03  0.00000000e+00\n",
      " -5.08990450e-03 -1.45804108e-02  0.00000000e+00  0.00000000e+00\n",
      "  2.93457882e-02  0.00000000e+00  4.01382999e-04  0.00000000e+00\n",
      "  1.30279241e-03  0.00000000e+00 -1.03717080e-02 -1.75877397e-03\n",
      "  0.00000000e+00  6.50006542e-04 -7.06953141e-05 -4.42306906e-05]\n",
      "[[-1.33668479e-06  1.05336450e-06 -2.39004929e-06  5.17524673e-06\n",
      "  -6.87040236e-06  1.20456491e-05 -4.46035543e-05 -7.56013950e-04\n",
      "   7.11410396e-04  3.01842539e-05  1.44953709e-04 -7.22885463e-06]\n",
      " [-1.31373159e-06  1.05660924e-06 -2.37034083e-06  5.12222634e-06\n",
      "  -6.93458252e-06  1.20568089e-05 -4.52724154e-05 -7.54023702e-04\n",
      "   7.08751286e-04  3.02139942e-05  1.44541460e-04 -7.22936039e-06]\n",
      " [ 0.00000000e+00  0.00000000e+00  0.00000000e+00  0.00000000e+00\n",
      "   0.00000000e+00  0.00000000e+00  0.00000000e+00  0.00000000e+00\n",
      "   0.00000000e+00  0.00000000e+00  0.00000000e+00  0.00000000e+00]\n",
      " [-1.29704599e-06  1.05988875e-06 -2.35693474e-06  4.91021967e-06\n",
      "  -7.04247760e-06  1.19526973e-05 -4.92172378e-05 -7.55009794e-04\n",
      "   7.05792556e-04  3.00996429e-05  1.44282110e-04 -7.20376762e-06]\n",
      " [-1.38678356e-06  1.04858433e-06 -2.43536789e-06  4.85731161e-06\n",
      "  -6.88341940e-06  1.17407310e-05 -5.17901656e-05 -7.66440175e-04\n",
      "   7.14650010e-04  2.97794146e-05  1.45954329e-04 -7.16284967e-06]\n",
      " [-1.21967240e-06  9.93550162e-07 -2.21322256e-06  6.42679203e-06\n",
      "  -6.86188564e-06  1.32886777e-05 -5.64902715e-05 -7.42645213e-04\n",
      "   6.86154942e-04  3.06329134e-05  1.41543839e-04 -7.27973206e-06]\n",
      " [-1.30462211e-06  1.03730560e-06 -2.34192771e-06  4.46697584e-06\n",
      "  -7.35318364e-06  1.18201595e-05 -6.24592162e-05 -7.72836137e-04\n",
      "   7.10376921e-04  3.01937966e-05  1.40515311e-04 -7.17456954e-06]\n",
      " [-1.03805055e-06  8.40627746e-07 -1.87867830e-06  9.41413988e-06\n",
      "  -6.73932684e-06  1.61534667e-05 -7.57710699e-05 -7.26064772e-04\n",
      "   6.50293702e-04  3.22121652e-05  1.31570840e-04 -7.47461315e-06]\n",
      " [-5.91555521e-07  9.86395721e-07 -1.57795124e-06  4.99764425e-06\n",
      "  -9.28741366e-06  1.42850579e-05 -9.14647766e-05 -7.30706019e-04\n",
      "   6.39241243e-04  3.33243245e-05  1.14217575e-04 -7.45652223e-06]\n",
      " [ 3.05112546e-07  7.76088497e-07 -4.70975951e-07  1.04611045e-05\n",
      "  -1.01100714e-05  2.05711759e-05 -1.26919829e-04 -6.30473688e-04\n",
      "   5.03553859e-04  3.72739678e-05  8.85334301e-05 -7.92600985e-06]\n",
      " [ 1.20485114e-07  9.52914801e-07 -8.32429687e-07  1.54246361e-06\n",
      "  -1.29328930e-05  1.44753566e-05 -1.73967986e-04 -7.58601372e-04\n",
      "   5.84633385e-04  3.56185690e-05  7.77900001e-05 -7.44080708e-06]\n",
      " [ 3.92957467e-06  1.44868997e-06  2.48088470e-06 -3.72735773e-06\n",
      "  -2.25069823e-05  1.87796246e-05 -2.18880641e-04 -3.89532094e-04\n",
      "   1.70651453e-04  4.37852721e-05  4.54672145e-06 -8.09279654e-06]\n",
      " [ 4.27995987e-06  1.35047077e-06  2.92948910e-06 -6.94088664e-06\n",
      "  -2.49078459e-05  1.79669593e-05 -3.58942348e-04 -4.39819970e-04\n",
      "   8.08776215e-05  4.10281710e-05 -7.10627545e-06 -7.42172188e-06]\n",
      " [ 3.34344238e-06  1.43072284e-06  1.91271954e-06 -1.97888282e-05\n",
      "  -2.74917719e-05  7.70294374e-06 -5.27321278e-04 -7.09319070e-04\n",
      "   1.81997792e-04  3.21310317e-05  4.03744505e-06 -5.81266311e-06]\n",
      " [-2.91201224e-06  2.06691417e-06 -4.97892641e-06 -4.68622577e-06\n",
      "  -9.02017330e-07 -3.78420844e-06  9.45903009e-05 -5.57878932e-04\n",
      "   6.52469233e-04  7.88077520e-06  2.25552996e-04 -4.04955172e-06]\n",
      " [ 1.07692292e-05  4.51002557e-06  6.25920366e-06 -3.14903432e-05\n",
      "  -3.54487648e-05  3.95842163e-06  7.47925695e-05  8.52242182e-04\n",
      "  -7.77449613e-04  3.39714061e-05  3.33052219e-06 -6.21784339e-06]\n",
      " [ 8.43050910e-06  6.40821166e-06  2.02229744e-06 -3.94371753e-05\n",
      "  -2.17572986e-05 -1.76798768e-05  5.77703614e-04  1.36027740e-03\n",
      "  -7.82573788e-04  4.27122195e-06  2.09484790e-04 -3.13525825e-06]\n",
      " [ 8.14193375e-06  3.99081267e-06  4.15112108e-06 -4.25244758e-05\n",
      "  -3.15683900e-05 -1.09560859e-05 -5.74412721e-04  4.52168148e-04\n",
      "  -1.02658087e-03 -8.79306094e-06  1.76084468e-04 -1.46341878e-07]\n",
      " [ 1.05121807e-05  1.61230575e-06  8.89987491e-06 -5.89677177e-05\n",
      "  -5.47756967e-05 -4.19202098e-06 -1.96291573e-03 -5.23456877e-04\n",
      "  -1.43945885e-03 -1.17696654e-05  4.39421192e-06  2.63867823e-06]\n",
      " [ 2.14423624e-05  1.01249216e-05  1.13174407e-05 -6.92624386e-05\n",
      "  -4.40437761e-05 -2.52186625e-05  4.78840775e-04  3.52516507e-03\n",
      "  -3.04632429e-03 -2.21072358e-05  1.70642457e-04  2.18561344e-06]\n",
      " [-1.98843205e-05  4.99715345e-06 -2.48814739e-05 -2.75129873e-05\n",
      "   5.98281770e-05 -8.73411643e-05  3.42755018e-04 -3.63168328e-04\n",
      "   7.05923346e-04 -1.57643549e-04  1.08427800e-03  1.66576362e-05]\n",
      " [-1.36497806e-05  7.09755392e-06 -2.07473345e-05 -7.69817684e-05\n",
      "   3.32724912e-05 -1.10254260e-04  1.32420372e-04 -5.39626075e-05\n",
      "   1.86382979e-04 -1.59967730e-04  1.00710034e-03  1.82773537e-05]\n",
      " [-3.39110138e-06  5.08786716e-06 -8.47896854e-06 -2.19810010e-05\n",
      "   2.53708790e-05 -4.73518800e-05 -4.12028425e-04  1.19647429e-03\n",
      "  -1.60850271e-03 -1.35401043e-04  8.40383146e-04  1.53452456e-05]\n",
      " [-4.87256447e-06  3.55644407e-06 -8.42900854e-06 -4.47502726e-05\n",
      "   1.32060472e-05 -5.79563198e-05 -1.35814907e-03  1.68742747e-04\n",
      "  -1.52689181e-03 -1.50103603e-04  7.54608853e-04  1.92747883e-05]\n",
      " [ 1.15963427e-05  3.35461565e-06  8.24172706e-06 -1.63173214e-05\n",
      "  -1.49681489e-05 -1.34917251e-06 -1.75192554e-03  2.05252729e-03\n",
      "  -3.80445283e-03 -1.08722394e-04  3.73496955e-04  1.57277745e-05]\n",
      " [ 1.63782042e-05 -1.73497828e-06  1.81131825e-05  1.61628820e-04\n",
      "   3.05879934e-05  1.31040826e-04 -1.37756444e-03  4.36494650e-03\n",
      "  -5.74251094e-03 -6.64655810e-05  1.91179098e-04  8.70096388e-06]\n",
      " [ 0.00000000e+00  0.00000000e+00  0.00000000e+00  0.00000000e+00\n",
      "   0.00000000e+00  0.00000000e+00  0.00000000e+00  0.00000000e+00\n",
      "   0.00000000e+00  0.00000000e+00  0.00000000e+00  0.00000000e+00]\n",
      " [ 0.00000000e+00  0.00000000e+00  0.00000000e+00  0.00000000e+00\n",
      "   0.00000000e+00  0.00000000e+00  0.00000000e+00  0.00000000e+00\n",
      "   0.00000000e+00  0.00000000e+00  0.00000000e+00  0.00000000e+00]\n",
      " [-2.80082706e-05  2.71636237e-06 -3.07246330e-05 -4.06119105e-05\n",
      "   6.22615806e-05 -1.02873491e-04  3.76405114e-04 -1.17804975e-03\n",
      "   1.55445487e-03 -1.45424415e-04  9.43804905e-05  2.50093251e-05]\n",
      " [-1.16063030e-05 -1.05129151e-05 -1.09338783e-06  1.15314606e-04\n",
      "   2.95017202e-05  8.58128854e-05 -2.86362918e-03 -1.78539233e-03\n",
      "  -1.07823685e-03 -3.92978414e-05 -6.72008622e-04  1.37207813e-05]\n",
      " [-3.87891448e-06 -1.36622429e-08 -3.86525224e-06  1.22138865e-04\n",
      "   6.13930206e-05  6.07458447e-05  1.37992057e-03  3.03894634e-03\n",
      "  -1.65902577e-03 -1.54060767e-05 -5.74405672e-04  7.33151140e-06]\n",
      " [ 0.00000000e+00  0.00000000e+00  0.00000000e+00  0.00000000e+00\n",
      "   0.00000000e+00  0.00000000e+00  0.00000000e+00  0.00000000e+00\n",
      "   0.00000000e+00  0.00000000e+00  0.00000000e+00  0.00000000e+00]\n",
      " [ 6.96799949e-06 -6.55073477e-06  1.35187343e-05  2.20708949e-05\n",
      "  -4.41387434e-05  6.62096383e-05 -2.06502612e-03 -6.56011080e-04\n",
      "  -1.40901504e-03  6.40625144e-05 -1.64091723e-03  5.89644123e-06]\n",
      " [ 0.00000000e+00  0.00000000e+00  0.00000000e+00  0.00000000e+00\n",
      "   0.00000000e+00  0.00000000e+00  0.00000000e+00  0.00000000e+00\n",
      "   0.00000000e+00  0.00000000e+00  0.00000000e+00  0.00000000e+00]\n",
      " [ 0.00000000e+00  0.00000000e+00  0.00000000e+00  0.00000000e+00\n",
      "   0.00000000e+00  0.00000000e+00  0.00000000e+00  0.00000000e+00\n",
      "   0.00000000e+00  0.00000000e+00  0.00000000e+00  0.00000000e+00]\n",
      " [-4.46935327e-05 -1.47640868e-06 -4.32171240e-05  2.17322998e-04\n",
      "   2.05185203e-04  1.21377954e-05  5.67019564e-03  1.88058793e-03\n",
      "   3.78960772e-03 -4.11516186e-05  4.75056558e-05  3.86489137e-06]\n",
      " [ 0.00000000e+00  0.00000000e+00  0.00000000e+00  0.00000000e+00\n",
      "   0.00000000e+00  0.00000000e+00  0.00000000e+00  0.00000000e+00\n",
      "   0.00000000e+00  0.00000000e+00  0.00000000e+00  0.00000000e+00]\n",
      " [ 1.40095399e-05  1.20048544e-05  2.00468549e-06 -1.70537837e-05\n",
      "   1.13401318e-05 -2.83939155e-05  6.54680823e-03  6.31431306e-03\n",
      "   2.32495168e-04  1.41152201e-04 -1.33368158e-03 -1.28466171e-05]\n",
      " [ 2.32490509e-05 -3.49930364e-06  2.67483545e-05 -2.52243805e-05\n",
      "  -8.11992017e-05  5.59748212e-05  4.70598644e-05  1.02555931e-03\n",
      "  -9.78499446e-04  1.71258471e-04 -1.92295203e-03 -1.03995958e-05]\n",
      " [ 0.00000000e+00  0.00000000e+00  0.00000000e+00  0.00000000e+00\n",
      "   0.00000000e+00  0.00000000e+00  0.00000000e+00  0.00000000e+00\n",
      "   0.00000000e+00  0.00000000e+00  0.00000000e+00  0.00000000e+00]\n",
      " [ 1.38213989e-05 -2.19649229e-05  3.57863217e-05  9.75663796e-05\n",
      "  -8.20378218e-05  1.79604201e-04 -4.34116921e-03 -3.90917129e-03\n",
      "  -4.31997922e-04  2.03944632e-04 -2.24803634e-03 -1.25777718e-05]\n",
      " [-1.90686655e-05 -3.96209443e-05  2.05522787e-05  3.73651476e-05\n",
      "  -1.13277720e-04  1.50642867e-04 -9.98004491e-03 -1.43932633e-02\n",
      "   4.41321835e-03  1.84498750e-04 -2.71113569e-03 -2.31570569e-06]\n",
      " [-5.28492763e-05 -1.57985624e-05 -3.70507139e-05 -2.54005319e-04\n",
      "  -4.87659277e-05 -2.05239392e-04 -3.10366469e-03 -1.37753418e-02\n",
      "   1.06716771e-02  2.99111190e-05 -1.48880326e-03  1.30150982e-05]\n",
      " [ 2.94701928e-05  1.00196457e-05  1.94505471e-05 -3.29081990e-04\n",
      "  -1.60169493e-04 -1.68912497e-04  2.40173341e-03  7.28502046e-04\n",
      "   1.67323137e-03  1.67668706e-04 -1.85010505e-03 -8.82366616e-06]\n",
      " [ 1.25730784e-05  2.70452643e-05 -1.44721859e-05 -1.25518838e-04\n",
      "   7.59043596e-05 -2.01423197e-04  1.14092004e-02  1.08883844e-02\n",
      "   5.20815950e-04 -7.36380578e-06  5.47356336e-04 -6.33509747e-06]\n",
      " [ 4.68614728e-06 -3.40846444e-07  5.02699373e-06  1.73716012e-04\n",
      "   1.16070798e-04  5.76452134e-05  4.96534750e-03  6.28094019e-03\n",
      "  -1.31559269e-03  1.30489608e-06  6.23865966e-04 -9.23740006e-06]\n",
      " [ 2.35032501e-05 -7.81948805e-06  3.13227381e-05  1.70356974e-04\n",
      "   3.39592383e-05  1.36397736e-04  1.56083027e-03  4.67632463e-03\n",
      "  -3.11549436e-03  7.80632427e-05 -1.31361891e-04 -1.41985779e-05]\n",
      " [ 1.75744409e-05 -2.32189511e-06  1.98963360e-05 -5.05413014e-05\n",
      "  -2.02902483e-05 -3.02510531e-05  1.05441666e-03  2.08718919e-03\n",
      "  -1.03277253e-03  1.50495309e-05 -6.26617367e-05 -1.89900000e-06]\n",
      " [ 0.00000000e+00  0.00000000e+00  0.00000000e+00  0.00000000e+00\n",
      "   0.00000000e+00  0.00000000e+00  0.00000000e+00  0.00000000e+00\n",
      "   0.00000000e+00  0.00000000e+00  0.00000000e+00  0.00000000e+00]\n",
      " [ 0.00000000e+00  0.00000000e+00  0.00000000e+00  0.00000000e+00\n",
      "   0.00000000e+00  0.00000000e+00  0.00000000e+00  0.00000000e+00\n",
      "   0.00000000e+00  0.00000000e+00  0.00000000e+00  0.00000000e+00]\n",
      " [ 2.45946662e-05  7.23979827e-06  1.73548679e-05 -2.74557471e-04\n",
      "  -8.59156561e-05 -1.88641815e-04  2.13119999e-03  1.59184653e-03\n",
      "   5.39353459e-04  5.13967663e-06  1.11017158e-04 -5.50264825e-07]\n",
      " [ 0.00000000e+00  0.00000000e+00  0.00000000e+00  0.00000000e+00\n",
      "   0.00000000e+00  0.00000000e+00  0.00000000e+00  0.00000000e+00\n",
      "   0.00000000e+00  0.00000000e+00  0.00000000e+00  0.00000000e+00]\n",
      " [-2.79274425e-05  1.47545502e-05 -4.26819927e-05  1.01917893e-04\n",
      "   2.95038451e-04 -1.93120558e-04  1.04602771e-02  9.69748180e-03\n",
      "   7.62795297e-04 -3.39622049e-04  4.12342282e-03  1.43454186e-05]\n",
      " [-1.29923230e-05 -1.80903672e-06 -1.11832862e-05  1.60009567e-04\n",
      "   2.01887857e-04 -4.18782906e-05  2.85638753e-03  3.82915995e-03\n",
      "  -9.72772419e-04 -2.68651190e-04  3.27074829e-03  1.20203424e-05]\n",
      " [ 0.00000000e+00  0.00000000e+00  0.00000000e+00  0.00000000e+00\n",
      "   0.00000000e+00  0.00000000e+00  0.00000000e+00  0.00000000e+00\n",
      "   0.00000000e+00  0.00000000e+00  0.00000000e+00  0.00000000e+00]\n",
      " [ 0.00000000e+00  0.00000000e+00  0.00000000e+00  0.00000000e+00\n",
      "   0.00000000e+00  0.00000000e+00  0.00000000e+00  0.00000000e+00\n",
      "   0.00000000e+00  0.00000000e+00  0.00000000e+00  0.00000000e+00]\n",
      " [-4.87629296e-05 -5.72365307e-05  8.47360109e-06  6.73048660e-04\n",
      "   2.71256944e-04  4.01791716e-04 -5.66160149e-03 -7.65797899e-03\n",
      "   1.99637750e-03 -5.24779487e-05  1.89912999e-03 -1.36363044e-05]\n",
      " [ 0.00000000e+00  0.00000000e+00  0.00000000e+00  0.00000000e+00\n",
      "   0.00000000e+00  0.00000000e+00  0.00000000e+00  0.00000000e+00\n",
      "   0.00000000e+00  0.00000000e+00  0.00000000e+00  0.00000000e+00]\n",
      " [ 2.98458617e-05 -2.93648875e-05  5.92107492e-05 -8.10013923e-05\n",
      "  -1.57864444e-04  7.68630516e-05 -7.92842207e-03 -8.52633760e-03\n",
      "   5.97915533e-04  1.43016881e-04 -7.21658914e-04 -1.52173774e-05]\n",
      " [ 0.00000000e+00  0.00000000e+00  0.00000000e+00  0.00000000e+00\n",
      "   0.00000000e+00  0.00000000e+00  0.00000000e+00  0.00000000e+00\n",
      "   0.00000000e+00  0.00000000e+00  0.00000000e+00  0.00000000e+00]\n",
      " [ 2.32428877e-05 -2.73005445e-05  5.05434322e-05  1.26981194e-04\n",
      "  -8.06897970e-05  2.07670991e-04  6.65829408e-05  3.36969571e-03\n",
      "  -3.30311277e-03  1.22399895e-04  6.38572831e-05 -2.30143034e-05]\n",
      " [ 0.00000000e+00  0.00000000e+00  0.00000000e+00  0.00000000e+00\n",
      "   0.00000000e+00  0.00000000e+00  0.00000000e+00  0.00000000e+00\n",
      "   0.00000000e+00  0.00000000e+00  0.00000000e+00  0.00000000e+00]\n",
      " [-4.57090780e-05 -4.66477952e-05  9.38717148e-07 -2.61453487e-04\n",
      "  -1.39930244e-04 -1.21523243e-04 -1.57074799e-02 -2.70807294e-02\n",
      "   1.13732494e-02 -2.52881580e-05 -8.23784125e-04  1.94074157e-05]\n",
      " [-7.36123165e-05 -6.62546016e-05 -7.35771488e-06 -3.71960135e-04\n",
      "  -2.45582668e-04 -1.26377467e-04 -1.65669238e-02 -2.90097045e-02\n",
      "   1.24427807e-02 -5.13984823e-05 -9.78996953e-04  2.70128244e-05]\n",
      " [ 0.00000000e+00  0.00000000e+00  0.00000000e+00  0.00000000e+00\n",
      "   0.00000000e+00  0.00000000e+00  0.00000000e+00  0.00000000e+00\n",
      "   0.00000000e+00  0.00000000e+00  0.00000000e+00  0.00000000e+00]\n",
      " [ 1.25637922e-04  2.50183693e-04 -1.24545771e-04  5.16387801e-05\n",
      "   8.85112006e-05 -3.68724205e-05 -2.59960004e-03 -5.50407228e-03\n",
      "   2.90447224e-03  3.17935487e-06 -9.21258913e-06 -8.05453926e-07]\n",
      " [-2.48473071e-05 -4.98177767e-05  2.49704695e-05 -4.97400206e-04\n",
      "  -1.00496633e-03  5.07566123e-04  2.75897407e-02  5.46917933e-02\n",
      "  -2.71020526e-02 -6.36644199e-06  7.42032494e-05 -1.05651458e-07]\n",
      " [-2.71488083e-07 -7.20371970e-07  4.48883887e-07  5.04328098e-04\n",
      "   1.00963855e-03 -5.05310451e-04 -7.95503721e-05 -1.67263167e-04\n",
      "   8.77127949e-05  1.71097575e-07 -1.68190802e-06 -1.60530978e-08]]\n"
     ]
    }
   ],
   "source": [
    "# print the intercept and coefficients\n",
    "print(linreg.intercept_)\n",
    "print(linreg.coef_)"
   ]
  },
  {
   "cell_type": "code",
   "execution_count": null,
   "metadata": {},
   "outputs": [],
   "source": []
  }
 ],
 "metadata": {
  "kernelspec": {
   "display_name": "Python 3.7.6 64-bit ('base': conda)",
   "language": "python",
   "name": "python37664bitbasecondae92e04133c8547bf906bc0cda8c7165a"
  },
  "language_info": {
   "codemirror_mode": {
    "name": "ipython",
    "version": 3
   },
   "file_extension": ".py",
   "mimetype": "text/x-python",
   "name": "python",
   "nbconvert_exporter": "python",
   "pygments_lexer": "ipython3",
   "version": "3.7.7"
  }
 },
 "nbformat": 4,
 "nbformat_minor": 4
}
